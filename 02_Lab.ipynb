{
  "cells": [
    {
      "cell_type": "markdown",
      "metadata": {
        "id": "view-in-github",
        "colab_type": "text"
      },
      "source": [
        "<a href=\"https://colab.research.google.com/github/connerr25/DataScienceGuidedCapstone/blob/master/02_Lab.ipynb\" target=\"_parent\"><img src=\"https://colab.research.google.com/assets/colab-badge.svg\" alt=\"Open In Colab\"/></a>"
      ]
    },
    {
      "cell_type": "markdown",
      "metadata": {
        "id": "DDWztB8I2GGw"
      },
      "source": [
        "# 1) Import the libraries you will to work with DataFrames"
      ]
    },
    {
      "cell_type": "markdown",
      "source": [],
      "metadata": {
        "id": "Dqx_G2ao21_L"
      }
    },
    {
      "cell_type": "code",
      "execution_count": null,
      "metadata": {
        "id": "M7SkP0D32GG2"
      },
      "outputs": [],
      "source": [
        "import warnings\n",
        "warnings.filterwarnings(\"ignore\", category=DeprecationWarning)\n",
        "warnings.filterwarnings(\"ignore\", category=FutureWarning)\n",
        "\n",
        "import pandas as pd"
      ]
    },
    {
      "cell_type": "markdown",
      "metadata": {
        "id": "7uO_tNjy2GG4"
      },
      "source": [
        "# 2) Load in the data for IBM"
      ]
    },
    {
      "cell_type": "code",
      "execution_count": null,
      "metadata": {
        "id": "vVvTtfT-2GG4"
      },
      "outputs": [],
      "source": [
        "df_IBM = pd.read_csv('../Data/IBM.csv', index_col='Date', parse_dates = True).sort_index()"
      ]
    },
    {
      "cell_type": "markdown",
      "metadata": {
        "id": "ft_Zpi512GG5"
      },
      "source": [
        "# 3) Describe the data for IBM for the year 2017"
      ]
    },
    {
      "cell_type": "code",
      "execution_count": null,
      "metadata": {
        "id": "RtnyyIHQ2GG5"
      },
      "outputs": [],
      "source": [
        "df_IBM.loc['2017'].describe()"
      ]
    },
    {
      "cell_type": "markdown",
      "metadata": {
        "id": "PIa4XJPC2GG6"
      },
      "source": [
        "# 4) - Create a new DataFrame\n",
        "\n",
        "- populate it with the Open, High, Low and Close prices for IBM"
      ]
    },
    {
      "cell_type": "code",
      "execution_count": null,
      "metadata": {
        "id": "pVGiRVMR2GG6"
      },
      "outputs": [],
      "source": [
        "df = pd.DataFrame()\n",
        "\n",
        "cols = ['Open', 'High', 'Low', 'Close']\n",
        "\n",
        "df = df_IBM[cols].copy()"
      ]
    },
    {
      "cell_type": "markdown",
      "metadata": {
        "id": "fbBgrWlZ2GG7"
      },
      "source": [
        "# 5) – Add a new column called “Day Range’\n",
        "-\t the difference between the High and Low prices."
      ]
    },
    {
      "cell_type": "code",
      "execution_count": null,
      "metadata": {
        "id": "XrNSl_qH2GG8"
      },
      "outputs": [],
      "source": [
        "df['Day Range'] = df['High'] - df['Low']"
      ]
    },
    {
      "cell_type": "markdown",
      "metadata": {
        "id": "2QIHolcN2GG8"
      },
      "source": [
        "# 6) – Describe the “Day Range’"
      ]
    },
    {
      "cell_type": "code",
      "execution_count": null,
      "metadata": {
        "id": "1XmL9AHV2GG8"
      },
      "outputs": [],
      "source": [
        "df['Day Range'].describe()"
      ]
    },
    {
      "cell_type": "markdown",
      "metadata": {
        "id": "U5aC_al02GG9"
      },
      "source": [
        "# 7) – What day had the largest Day Range"
      ]
    },
    {
      "cell_type": "code",
      "execution_count": null,
      "metadata": {
        "id": "CE6ZhBuW2GG9"
      },
      "outputs": [],
      "source": [
        "# The row with the largest Day Range is\n",
        "largest = df['Day Range'].max()\n",
        "\n",
        "# The position of this row is\n",
        "df['Day Range'].idxmax()\n",
        "\n",
        "# Store the index of this row\n",
        "dt = df['Day Range'].idxmax()\n",
        "\n",
        "# Convert to a pandas datetime\n",
        "t = pd.to_datetime(str(dt))\n",
        "\n",
        "# Display\n",
        "timestring = t.strftime('%Y/%m/%d')\n",
        "\n",
        "print(f\"Day with largest day range is {timestring} with a value of {largest:5.2f}\")"
      ]
    },
    {
      "cell_type": "markdown",
      "metadata": {
        "id": "9ZLKib8A2GG-"
      },
      "source": [
        "# 8) What day had the smallest Day Range"
      ]
    },
    {
      "cell_type": "code",
      "execution_count": null,
      "metadata": {
        "id": "DjD2jH5I2GG-"
      },
      "outputs": [],
      "source": [
        "# The row with the smallest Day Range is\n",
        "smallest = df['Day Range'].min()\n",
        "\n",
        "# The position of this row is\n",
        "df['Day Range'].idxmin()\n",
        "\n",
        "# Store the index of this row\n",
        "dt = df['Day Range'].idxmin()\n",
        "\n",
        "# Convert to a pandas datetime\n",
        "t = pd.to_datetime(str(dt))\n",
        "\n",
        "# Display\n",
        "timestring = t.strftime('%Y/%m/%d')\n",
        "\n",
        "print(f\"Day with smallest day range is {timestring} with a value of {smallest:5.2f}\")"
      ]
    },
    {
      "cell_type": "code",
      "execution_count": null,
      "metadata": {
        "id": "h5wSy5uh2GG_"
      },
      "outputs": [],
      "source": [
        "df['Day Range'].min()"
      ]
    },
    {
      "cell_type": "code",
      "execution_count": null,
      "metadata": {
        "id": "HORJmrTM2GHA"
      },
      "outputs": [],
      "source": []
    },
    {
      "cell_type": "code",
      "execution_count": null,
      "metadata": {
        "id": "9fBB54N42GHA"
      },
      "outputs": [],
      "source": []
    },
    {
      "cell_type": "code",
      "execution_count": null,
      "metadata": {
        "id": "TkU87mwu2GHA"
      },
      "outputs": [],
      "source": []
    },
    {
      "cell_type": "code",
      "execution_count": null,
      "metadata": {
        "id": "jiC3vWAS2GHA"
      },
      "outputs": [],
      "source": []
    },
    {
      "cell_type": "code",
      "execution_count": null,
      "metadata": {
        "id": "Tk7qV4UF2GHB"
      },
      "outputs": [],
      "source": []
    },
    {
      "cell_type": "code",
      "execution_count": null,
      "metadata": {
        "id": "cAfX8sXk2GHB"
      },
      "outputs": [],
      "source": []
    }
  ],
  "metadata": {
    "kernelspec": {
      "display_name": "Python 3 (ipykernel)",
      "language": "python",
      "name": "python3"
    },
    "language_info": {
      "codemirror_mode": {
        "name": "ipython",
        "version": 3
      },
      "file_extension": ".py",
      "mimetype": "text/x-python",
      "name": "python",
      "nbconvert_exporter": "python",
      "pygments_lexer": "ipython3",
      "version": "3.11.5"
    },
    "colab": {
      "provenance": [],
      "include_colab_link": true
    }
  },
  "nbformat": 4,
  "nbformat_minor": 0
}