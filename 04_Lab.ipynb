{
  "cells": [
    {
      "cell_type": "markdown",
      "metadata": {
        "id": "view-in-github",
        "colab_type": "text"
      },
      "source": [
        "<a href=\"https://colab.research.google.com/github/connerr25/DataScienceGuidedCapstone/blob/master/04_Lab.ipynb\" target=\"_parent\"><img src=\"https://colab.research.google.com/assets/colab-badge.svg\" alt=\"Open In Colab\"/></a>"
      ]
    },
    {
      "cell_type": "code",
      "execution_count": null,
      "metadata": {
        "id": "Ti-bagAp5L2f"
      },
      "outputs": [],
      "source": [
        "import warnings\n",
        "warnings.filterwarnings(\"ignore\", category=DeprecationWarning)\n",
        "warnings.filterwarnings(\"ignore\", category=FutureWarning)\n",
        "\n",
        "import pandas as pd\n",
        "import numpy as np\n",
        "import matplotlib.pyplot as plt"
      ]
    },
    {
      "cell_type": "code",
      "execution_count": null,
      "metadata": {
        "id": "NwQnxbJH5L2l"
      },
      "outputs": [],
      "source": [
        "df = pd.read_csv('../Data/GOOGL.csv', index_col='Date', parse_dates=True).sort_index()"
      ]
    },
    {
      "cell_type": "markdown",
      "metadata": {
        "id": "LZ7LlgTj5L2m"
      },
      "source": [
        "# 1) – Using the Data in the csv file GOOGL.csv\n",
        "\n",
        "- plot a chart similar to the following for the Adjusted Close and the Adjusted Volume."
      ]
    },
    {
      "cell_type": "code",
      "execution_count": null,
      "metadata": {
        "id": "o__nkV_A5L2o"
      },
      "outputs": [],
      "source": [
        "# Creates blank canvas\n",
        "fig = plt.figure(figsize=(8,4), dpi=100)\n",
        "\n",
        "axes1 = fig.add_axes([0.1, 0.1, 0.8, 0.8]) # main axes\n",
        "axes2 = fig.add_axes([0.2, 0.5, 0.4, 0.3]) # inset axes\n",
        "\n",
        "x = df.index\n",
        "y1 = df['Close']\n",
        "y2 = df['Volume']\n",
        "\n",
        "# Larger Figure Axes 1\n",
        "axes1.plot(x, y1, 'r')\n",
        "axes1.set_xlabel('Date')\n",
        "axes1.set_ylabel('Close')\n",
        "axes1.set_title('GOOGLE Close');\n",
        "\n",
        "# Insert Figure Axes 2\n",
        "axes2.plot(x, y2, 'b')\n",
        "axes2.set_xlabel('Date')\n",
        "axes2.set_title('Volume')"
      ]
    },
    {
      "cell_type": "markdown",
      "metadata": {
        "id": "3gpRtiVi5L2p"
      },
      "source": [
        "# 2 – Refine the plot but use only for the year 2017\n",
        "\n",
        "changing the positioning and labels slightly.![image.png](attachment:image.png)"
      ]
    },
    {
      "cell_type": "code",
      "execution_count": null,
      "metadata": {
        "id": "Jf5lXg8U5L2p"
      },
      "outputs": [],
      "source": [
        "# Creates blank canvas\n",
        "fig = plt.figure(figsize=(8,4), dpi=100)\n",
        "\n",
        "axes1 = fig.add_axes([0.1, 0.1, 0.8, 0.8]) # main axes\n",
        "axes2 = fig.add_axes([0.45, 0.2, 0.4, 0.2]) # inset axes\n",
        "\n",
        "x = df.loc['2017'].index\n",
        "y1 = df.loc['2017']['Close']\n",
        "y2 = df.loc['2017']['Volume']\n",
        "\n",
        "# Larger Figure Axes 1\n",
        "axes1.plot(x, y1, 'r')\n",
        "axes1.set_xlabel('Date')\n",
        "axes1.set_ylabel('Close')\n",
        "axes1.set_title('GOOGLE 2017 Close');\n",
        "\n",
        "# Insert Figure Axes 2\n",
        "axes2.plot(x, y2, 'b')\n",
        "axes2.set_title('Volume')\n",
        "axes2.set_xticklabels(['Jan', 'Mar', 'May', 'Jul', 'Sep', 'Nov', 'Jan'], rotation=30, fontsize='small')\n",
        "axes2.set_yticklabels(['2M', '4M', '6M'], rotation=30, fontsize='small')"
      ]
    },
    {
      "cell_type": "markdown",
      "metadata": {
        "id": "SymWVu7l5L2q"
      },
      "source": [
        "# 3)  – Using the following python code as a starting reference\n",
        "\n",
        "- produce a pie chart similar to the one shown below\n",
        "\n",
        "composition = [17,42,22,19]\n",
        "\n",
        "assets = ['bonds','stocks','gold','dollars']\n",
        "\n",
        "colours = ['m','c','y','b']\n"
      ]
    },
    {
      "cell_type": "code",
      "execution_count": null,
      "metadata": {
        "id": "FPuugKfD5L2r"
      },
      "outputs": [],
      "source": [
        "composition = [17,42,22,19]\n",
        "assets = ['bonds','stocks','gold','dollars']\n",
        "colours = ['m','c','y','b']\n",
        "\n",
        "plt.pie(composition,\n",
        "        labels=assets,\n",
        "        colors=colours,\n",
        "        startangle=90,\n",
        "        shadow=True,\n",
        "        explode=(0, 0.1, 0, 0),\n",
        "        autopct='%1.1f%%')\n",
        "\n",
        "plt.title('Portfolio 5 Composition')\n",
        "\n",
        "plt.show()"
      ]
    },
    {
      "cell_type": "code",
      "execution_count": null,
      "metadata": {
        "id": "FOZ6p1Ga5L2t"
      },
      "outputs": [],
      "source": []
    },
    {
      "cell_type": "code",
      "execution_count": null,
      "metadata": {
        "id": "4h8MJcIK5L2t"
      },
      "outputs": [],
      "source": []
    },
    {
      "cell_type": "code",
      "execution_count": null,
      "metadata": {
        "id": "lFykP5eb5L2u"
      },
      "outputs": [],
      "source": []
    },
    {
      "cell_type": "code",
      "execution_count": null,
      "metadata": {
        "id": "DHg2mrus5L2v"
      },
      "outputs": [],
      "source": []
    },
    {
      "cell_type": "code",
      "execution_count": null,
      "metadata": {
        "id": "iJZZHCBV5L2v"
      },
      "outputs": [],
      "source": []
    },
    {
      "cell_type": "code",
      "execution_count": null,
      "metadata": {
        "id": "ZuYtSqZP5L2v"
      },
      "outputs": [],
      "source": []
    },
    {
      "cell_type": "code",
      "execution_count": null,
      "metadata": {
        "id": "bXTFDion5L2w"
      },
      "outputs": [],
      "source": []
    }
  ],
  "metadata": {
    "kernelspec": {
      "display_name": "Python 3 (ipykernel)",
      "language": "python",
      "name": "python3"
    },
    "language_info": {
      "codemirror_mode": {
        "name": "ipython",
        "version": 3
      },
      "file_extension": ".py",
      "mimetype": "text/x-python",
      "name": "python",
      "nbconvert_exporter": "python",
      "pygments_lexer": "ipython3",
      "version": "3.11.5"
    },
    "colab": {
      "provenance": [],
      "include_colab_link": true
    }
  },
  "nbformat": 4,
  "nbformat_minor": 0
}